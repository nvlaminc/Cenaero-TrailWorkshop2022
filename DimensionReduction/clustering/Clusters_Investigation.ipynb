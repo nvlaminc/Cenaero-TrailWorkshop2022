{
 "cells": [
  {
   "cell_type": "markdown",
   "id": "d96881a2-6b27-4c27-aae1-e72c1fe56e4f",
   "metadata": {},
   "source": [
    "# Creation of Clusters Classifier"
   ]
  },
  {
   "cell_type": "markdown",
   "id": "a7008f4b-73ef-49a6-8a5c-26ae03d29c79",
   "metadata": {
    "tags": []
   },
   "source": [
    "## Load Data"
   ]
  },
  {
   "cell_type": "code",
   "execution_count": 1,
   "id": "445a89dc-3ed4-4269-aecd-3de9a74fe801",
   "metadata": {},
   "outputs": [
    {
     "name": "stderr",
     "output_type": "stream",
     "text": [
      "/home/rmarion/python-env/Berlin/lib/python3.8/site-packages/tqdm/auto.py:22: TqdmWarning: IProgress not found. Please update jupyter and ipywidgets. See https://ipywidgets.readthedocs.io/en/stable/user_install.html\n",
      "  from .autonotebook import tqdm as notebook_tqdm\n"
     ]
    }
   ],
   "source": [
    "from utils import *\n",
    "\n",
    "file_path = '../../QuickStart/Data/Electricity/residential_all_hour_with_date_time.pkl'\n",
    "x_date_time = pd.read_pickle(file_path)\n",
    "ids = x_date_time.columns.values"
   ]
  },
  {
   "cell_type": "markdown",
   "id": "e8a0b733-3088-4253-8434-7421969b9ce8",
   "metadata": {},
   "source": [
    "**Smooth Data**"
   ]
  },
  {
   "cell_type": "code",
   "execution_count": 2,
   "id": "f24a9c3c-e6fa-49ac-968f-30626e30a0ef",
   "metadata": {},
   "outputs": [],
   "source": [
    "x_date_time = gaussian_smoothing(x_date_time)"
   ]
  },
  {
   "cell_type": "markdown",
   "id": "731f38b3-66be-44e1-a14c-f56abb428600",
   "metadata": {},
   "source": [
    "**Keep 1st Year**"
   ]
  },
  {
   "cell_type": "code",
   "execution_count": 3,
   "id": "22819053-f45b-47f2-8316-9a094f762b47",
   "metadata": {},
   "outputs": [],
   "source": [
    "df = x_date_time.sort_values(by='date_time')[\"2009-07-15\" : \"2010-07-14\"]\n",
    "x = np.array(df).T"
   ]
  },
  {
   "cell_type": "markdown",
   "id": "d63dcf8c-6ef3-4247-9fd3-d66804a4e5e5",
   "metadata": {},
   "source": [
    "**Removing Outlier**"
   ]
  },
  {
   "cell_type": "code",
   "execution_count": 4,
   "id": "27d75a54-27f1-4778-835e-d99fb545c436",
   "metadata": {},
   "outputs": [
    {
     "name": "stdout",
     "output_type": "stream",
     "text": [
      "Shape before removing outlier (3639, 8760).\n",
      "Shape after removing outlier (3595, 8760).\n"
     ]
    }
   ],
   "source": [
    "id_remove = []\n",
    "\n",
    "# maximum and variance based outlier removal\n",
    "for i in np.argsort(-x.max(1))[:10]:\n",
    "    id_remove.append(i)\n",
    "for i in np.argsort(-x.std(1))[:10]:\n",
    "    id_remove.append(i)\n",
    "id_remove = np.asarray(id_remove)\n",
    "\n",
    "# detect outliers with Isolation Forest\n",
    "clf = IsolationForest(random_state=0, contamination = 0.01, n_jobs=-1).fit(x)\n",
    "pred = clf.predict(x)\n",
    "\n",
    "id_remove = np.concatenate((id_remove, np.squeeze(np.argwhere((pred==-1)))))\n",
    "id_remove = np.unique(id_remove)\n",
    "\n",
    "print(f'Shape before removing outlier {x.shape}.')\n",
    "\n",
    "x = np.delete(x, id_remove, 0)\n",
    "ids = np.delete(ids, id_remove, 0)\n",
    "\n",
    "print(f'Shape after removing outlier {x.shape}.')"
   ]
  },
  {
   "cell_type": "markdown",
   "id": "7a4b3576",
   "metadata": {},
   "source": [
    "## 0. Define Parameters"
   ]
  },
  {
   "cell_type": "code",
   "execution_count": 11,
   "id": "13a5d3ee",
   "metadata": {},
   "outputs": [],
   "source": [
    "n_components = 10\n",
    "n_cluster = 4\n",
    "do_plot = False"
   ]
  },
  {
   "cell_type": "markdown",
   "id": "1d39eba8-6713-4e01-a9c1-3ae93c1e4bc7",
   "metadata": {
    "tags": []
   },
   "source": [
    "## 1. KMeans Clustering"
   ]
  },
  {
   "cell_type": "markdown",
   "id": "552e5776-2a81-42dc-adc2-9bbdddff60a2",
   "metadata": {},
   "source": [
    "### Prepare signals"
   ]
  },
  {
   "cell_type": "markdown",
   "id": "8ce29db1-1171-4dc7-8a1f-9f4ff8f3b151",
   "metadata": {},
   "source": [
    "**Generate KMeans clustering**"
   ]
  },
  {
   "cell_type": "code",
   "execution_count": 12,
   "id": "fab8f9bc-1316-4c57-8ece-3618c62fa280",
   "metadata": {},
   "outputs": [
    {
     "name": "stdout",
     "output_type": "stream",
     "text": [
      "Number of PCA components: 10\n",
      "Number of clusters: 4\n",
      "Time to cluster the dataset 5.63 s.\n"
     ]
    }
   ],
   "source": [
    "print(f'Number of PCA components: {n_components}')\n",
    "print(f'Number of clusters: {n_cluster}')\n",
    "\n",
    "t = time.time()\n",
    "\n",
    "x_pca = PCA(n_components=n_components).fit_transform(x)\n",
    "kmeans = KMeans(n_clusters=n_cluster, random_state=0).fit(x_pca)\n",
    "\n",
    "print(f'Time to cluster the dataset {time.time()-t:.2f} s.')\n",
    "\n",
    "if do_plot:\n",
    "    plot_clusters(x, kmeans.predict(x_pca))"
   ]
  },
  {
   "cell_type": "markdown",
   "id": "d2a1b6b6-792a-40a3-9319-835c9d0dc107",
   "metadata": {},
   "source": [
    "**Compute Centroids**"
   ]
  },
  {
   "cell_type": "code",
   "execution_count": 13,
   "id": "f8be5188-7391-4633-a06e-6a0f6c54ec29",
   "metadata": {},
   "outputs": [
    {
     "name": "stdout",
     "output_type": "stream",
     "text": [
      "Population of cluster 1 for kmean is 970\n",
      "Population of cluster 2 for kmean is 978\n",
      "Population of cluster 3 for kmean is 1139\n",
      "Population of cluster 4 for kmean is 508\n"
     ]
    }
   ],
   "source": [
    "clusters = []\n",
    "\n",
    "for c in range(n_cluster):\n",
    "    print(f'Population of cluster {c+1} for kmean is {(kmeans.predict(x_pca)==c).sum()}')\n",
    "    tmp = {}\n",
    "    tmp['labels'] = c\n",
    "    tmp['centroid'] = x[kmeans.predict(x_pca) == c].mean(0)\n",
    "    tmp['ids'] = ids[kmeans.predict(x_pca) == c]\n",
    "    clusters.append(tmp)"
   ]
  },
  {
   "cell_type": "markdown",
   "id": "301cdc87-e69f-4a27-a4c0-bd8f84f136eb",
   "metadata": {
    "tags": []
   },
   "source": [
    "## 2. Spectral Clustering"
   ]
  },
  {
   "cell_type": "markdown",
   "id": "7a4c1071-7bfc-4028-b366-eb29ff45569d",
   "metadata": {},
   "source": [
    "### Prepare signals"
   ]
  },
  {
   "cell_type": "markdown",
   "id": "beaa13b2-c8aa-4612-ae51-3945d16373c5",
   "metadata": {},
   "source": [
    "**Generate Spectral clustering**"
   ]
  },
  {
   "cell_type": "code",
   "execution_count": 17,
   "id": "7c30295b-fa17-43a5-9464-978a8b394f3e",
   "metadata": {},
   "outputs": [
    {
     "name": "stdout",
     "output_type": "stream",
     "text": [
      "Number of PCA components: 10\n",
      "Number of clusters: 4\n",
      "Time to cluster the dataset 5.04 s.\n"
     ]
    }
   ],
   "source": [
    "print(f'Number of PCA components: {n_components}')\n",
    "print(f'Number of clusters: {n_cluster}')\n",
    "\n",
    "t = time.time()\n",
    "\n",
    "x_pca = PCA(n_components=n_components).fit_transform(x)\n",
    "scluster = SpectralClustering(n_clusters=n_cluster, random_state=0, affinity = \"nearest_neighbors\").fit(x_pca)\n",
    "\n",
    "print(f'Time to cluster the dataset {time.time()-t:.2f} s.')\n",
    "\n",
    "if do_plot:\n",
    "    plot_clusters(x, kmeans.predict(x_pca))"
   ]
  },
  {
   "cell_type": "markdown",
   "id": "49edd80d-46a4-49c9-8008-9aca0076d9b0",
   "metadata": {},
   "source": [
    "**Compute Centroids**"
   ]
  },
  {
   "cell_type": "code",
   "execution_count": 15,
   "id": "da6b385f-e462-4980-a800-d2f4715e9acf",
   "metadata": {},
   "outputs": [
    {
     "name": "stdout",
     "output_type": "stream",
     "text": [
      "Population of cluster 1 for kmean is 1160\n",
      "Population of cluster 2 for kmean is 1555\n",
      "Population of cluster 3 for kmean is 232\n",
      "Population of cluster 4 for kmean is 648\n"
     ]
    }
   ],
   "source": [
    "clusters = []\n",
    "\n",
    "for c in range(n_cluster):\n",
    "    print(f'Population of cluster {c+1} for kmean is {(scluster.labels_==c).sum()}')\n",
    "    tmp = {}\n",
    "    tmp['labels'] = c\n",
    "    tmp['centroid'] = x[scluster.labels_ == c].mean(0)\n",
    "    tmp['ids'] = ids[scluster.labels_== c]\n",
    "    clusters.append(tmp)"
   ]
  },
  {
   "cell_type": "markdown",
   "id": "14f839aa-068d-4c2a-90ad-a1356ba5ce24",
   "metadata": {
    "tags": []
   },
   "source": [
    "## 3. Self-Organised Maps"
   ]
  },
  {
   "cell_type": "markdown",
   "id": "a93f7524-a34f-4702-8dc6-15baadfa6b8a",
   "metadata": {},
   "source": [
    "### Prepare signals"
   ]
  },
  {
   "cell_type": "markdown",
   "id": "493c97dc-2ea9-4807-a4be-90ebb7564ae5",
   "metadata": {},
   "source": [
    "**Generate SOM clustering**"
   ]
  },
  {
   "cell_type": "code",
   "execution_count": 16,
   "id": "0c598c5b-f438-4ef8-8f61-6ab480d755c1",
   "metadata": {},
   "outputs": [
    {
     "name": "stdout",
     "output_type": "stream",
     "text": [
      "Number of PCA components: 10\n",
      "Number of clusters: 4\n",
      "Time to cluster the dataset 4.63 s.\n"
     ]
    }
   ],
   "source": [
    "print(f'Number of PCA components: {n_components}')\n",
    "print(f'Number of clusters: {n_cluster}')\n",
    "\n",
    "t = time.time()\n",
    "\n",
    "x_pca = PCA(n_components=n_components).fit_transform(x)\n",
    "\n",
    "som = susi.SOMClustering(n_rows=1,n_columns=n_cluster)\n",
    "som.fit(x_pca)\n",
    "cluster_coord = pd.DataFrame(np.array(som.get_clusters(x_pca)), columns = [\"dim1\", \"dim2\"])\n",
    "print(f'Time to cluster the dataset {time.time()-t:.2f} s.')\n",
    "\n",
    "labels_ = cluster_coord.groupby(['dim1', 'dim2']).grouper.group_info[0]\n",
    "\n",
    "if do_plot:\n",
    "    plot_clusters(x, labels_)"
   ]
  },
  {
   "cell_type": "markdown",
   "id": "2c867297-9ec3-4b80-93af-d06612110880",
   "metadata": {},
   "source": [
    "**Compute Centroids**"
   ]
  },
  {
   "cell_type": "code",
   "execution_count": 18,
   "id": "4780d27f-2df8-4621-aa2a-82ae02725333",
   "metadata": {},
   "outputs": [
    {
     "name": "stdout",
     "output_type": "stream",
     "text": [
      "Population of cluster 1 for kmean is 1223\n",
      "Population of cluster 2 for kmean is 845\n",
      "Population of cluster 3 for kmean is 711\n",
      "Population of cluster 4 for kmean is 816\n"
     ]
    }
   ],
   "source": [
    "clusters = []\n",
    "\n",
    "for c in range(n_cluster):\n",
    "    print(f'Population of cluster {c+1} for kmean is {(labels_==c).sum()}')\n",
    "    tmp = {}\n",
    "    tmp['labels'] = c\n",
    "    tmp['centroid'] = x[labels_ == c].mean(0)\n",
    "    tmp['ids'] = ids[labels_ == c]\n",
    "    clusters.append(tmp)"
   ]
  },
  {
   "cell_type": "markdown",
   "id": "7d04e853-316d-48e6-97b8-bd37fb0188cf",
   "metadata": {
    "tags": []
   },
   "source": [
    "## X. Training Deep Learning Model for Clustering/Forecasting"
   ]
  },
  {
   "cell_type": "markdown",
   "id": "df1e4e56-4f1b-4594-9742-42d460ec3ba0",
   "metadata": {},
   "source": [
    "### Train Models"
   ]
  },
  {
   "cell_type": "markdown",
   "id": "994389a7-d77c-4819-8da4-baff1cee3458",
   "metadata": {},
   "source": [
    "**Generate Training Signals**"
   ]
  },
  {
   "cell_type": "code",
   "execution_count": 7,
   "id": "280389c1-371b-4539-a710-8970cae28ddb",
   "metadata": {},
   "outputs": [],
   "source": [
    "c = 0\n",
    "\n",
    "df = pd.DataFrame()\n",
    "df['consumption'] = clusters[c]['centroid']\n",
    "df['date_time'] = pd.date_range(start=\"2009-07-15\", end=\"2010-07-14 23:00:00\", freq=\"60T\", name='date_time')\n",
    "df = df.set_index('date_time')\n",
    "\n",
    "train_serie = darts.TimeSeries.from_dataframe(df)\n",
    "\n",
    "#train_serie.plot()"
   ]
  },
  {
   "cell_type": "code",
   "execution_count": 8,
   "id": "788550f1-2cad-4c02-b3c6-532e0e8503c1",
   "metadata": {},
   "outputs": [],
   "source": [
    "conso = x_date_time.sort_values(by='date_time')[\"2010-07-14\" : \"2010-07-21\"][clusters[c]['ids']].values.mean(1)\n",
    "df = pd.DataFrame()\n",
    "df['date_time'] = pd.date_range(start=\"2010-07-14\", end=\"2010-07-21 23:00:00\", freq=\"60T\", name='date_time')\n",
    "df['consumption'] = conso\n",
    "df = df.set_index('date_time')\n",
    "\n",
    "val_series = darts.TimeSeries.from_dataframe(df)\n",
    "\n",
    "#val_series.plot()"
   ]
  },
  {
   "cell_type": "markdown",
   "id": "0e775028-d42e-4f2e-beb0-6e12df28688c",
   "metadata": {},
   "source": [
    "**Create the model**"
   ]
  },
  {
   "cell_type": "code",
   "execution_count": 9,
   "id": "e95f4bcc-4422-470c-a628-fe9d5559f514",
   "metadata": {},
   "outputs": [],
   "source": [
    "directory = 'cluster/kmeans/'\n",
    "model_name = f\"RNN_test_{c}\"\n",
    "\n",
    "torch_metrics = MeanSquaredError()\n",
    "\n",
    "my_stopper = EarlyStopping(\n",
    "    monitor=\"val_MeanSquaredError\",  # \"val_loss\",\n",
    "    patience= 7,\n",
    "    min_delta=0.0025,\n",
    "    mode='min',)\n",
    "\n",
    "kwargs = {\"accelerator\": \"gpu\", \"gpus\": [0], \"auto_select_gpus\": True, \"callbacks\": [my_stopper]}\n",
    "\n",
    "model = RNNModel(model = \"LSTM\" , input_chunk_length=7*24, training_length=7*24, random_state = 42, n_epochs = 20, \n",
    "                 save_checkpoints = True, work_dir = directory, n_rnn_layers = 3, hidden_dim = 25, model_name = model_name, \n",
    "                 log_tensorboard = True, force_reset = True, torch_metrics = torch_metrics, pl_trainer_kwargs = kwargs)"
   ]
  },
  {
   "cell_type": "markdown",
   "id": "b56a5b0d-2efb-4eca-a159-888086d66ec6",
   "metadata": {},
   "source": [
    "**Train the model**"
   ]
  },
  {
   "cell_type": "code",
   "execution_count": 10,
   "id": "6405232f-919d-4e84-8337-4f4280f3511f",
   "metadata": {
    "tags": []
   },
   "outputs": [
    {
     "name": "stderr",
     "output_type": "stream",
     "text": [
      "/home/vdelv/anaconda3/envs/trail/lib/python3.10/site-packages/darts/timeseries.py:4079: FutureWarning: pandas.Int64Index is deprecated and will be removed from pandas in a future version. Use pandas.Index with the appropriate dtype instead.\n",
      "  if isinstance(time_idx, pd.Int64Index) and not isinstance(\n",
      "/home/vdelv/anaconda3/envs/trail/lib/python3.10/site-packages/pytorch_lightning/trainer/connectors/accelerator_connector.py:447: LightningDeprecationWarning: Setting `Trainer(gpus=[0])` is deprecated in v1.7 and will be removed in v2.0. Please use `Trainer(accelerator='gpu', devices=[0])` instead.\n",
      "  rank_zero_deprecation(\n",
      "GPU available: True (cuda), used: True\n",
      "TPU available: False, using: 0 TPU cores\n",
      "IPU available: False, using: 0 IPUs\n",
      "HPU available: False, using: 0 HPUs\n",
      "LOCAL_RANK: 0 - CUDA_VISIBLE_DEVICES: [0]\n",
      "\n",
      "  | Name          | Type             | Params\n",
      "---------------------------------------------------\n",
      "0 | criterion     | MSELoss          | 0     \n",
      "1 | train_metrics | MetricCollection | 0     \n",
      "2 | val_metrics   | MetricCollection | 0     \n",
      "3 | rnn           | LSTM             | 13.2 K\n",
      "4 | V             | Linear           | 26    \n",
      "---------------------------------------------------\n",
      "13.2 K    Trainable params\n",
      "0         Non-trainable params\n",
      "13.2 K    Total params\n",
      "0.106     Total estimated model params size (MB)\n"
     ]
    },
    {
     "data": {
      "application/json": {
       "ascii": false,
       "bar_format": null,
       "colour": null,
       "elapsed": 0.016672849655151367,
       "initial": 0,
       "n": 0,
       "ncols": 80,
       "nrows": 24,
       "postfix": null,
       "prefix": "Sanity Checking",
       "rate": null,
       "total": null,
       "unit": "it",
       "unit_divisor": 1000,
       "unit_scale": false
      },
      "application/vnd.jupyter.widget-view+json": {
       "model_id": "9b8178123c5545098542103e65ac61ff",
       "version_major": 2,
       "version_minor": 0
      },
      "text/plain": [
       "Sanity Checking: 0it [00:00, ?it/s]"
      ]
     },
     "metadata": {},
     "output_type": "display_data"
    },
    {
     "data": {
      "application/json": {
       "ascii": false,
       "bar_format": null,
       "colour": null,
       "elapsed": 0.012219905853271484,
       "initial": 0,
       "n": 0,
       "ncols": 80,
       "nrows": 24,
       "postfix": null,
       "prefix": "Training",
       "rate": null,
       "total": null,
       "unit": "it",
       "unit_divisor": 1000,
       "unit_scale": false
      },
      "application/vnd.jupyter.widget-view+json": {
       "model_id": "10b072d764bf4a26bddd78f1daf1e3dc",
       "version_major": 2,
       "version_minor": 0
      },
      "text/plain": [
       "Training: 0it [00:00, ?it/s]"
      ]
     },
     "metadata": {},
     "output_type": "display_data"
    },
    {
     "data": {
      "application/json": {
       "ascii": false,
       "bar_format": null,
       "colour": null,
       "elapsed": 0.011951684951782227,
       "initial": 0,
       "n": 0,
       "ncols": 80,
       "nrows": 24,
       "postfix": null,
       "prefix": "Validation",
       "rate": null,
       "total": null,
       "unit": "it",
       "unit_divisor": 1000,
       "unit_scale": false
      },
      "application/vnd.jupyter.widget-view+json": {
       "model_id": "4657e6ffc7c3439b854598def4cf76cb",
       "version_major": 2,
       "version_minor": 0
      },
      "text/plain": [
       "Validation: 0it [00:00, ?it/s]"
      ]
     },
     "metadata": {},
     "output_type": "display_data"
    },
    {
     "data": {
      "application/json": {
       "ascii": false,
       "bar_format": null,
       "colour": null,
       "elapsed": 0.014544963836669922,
       "initial": 0,
       "n": 0,
       "ncols": 80,
       "nrows": 24,
       "postfix": null,
       "prefix": "Validation",
       "rate": null,
       "total": null,
       "unit": "it",
       "unit_divisor": 1000,
       "unit_scale": false
      },
      "application/vnd.jupyter.widget-view+json": {
       "model_id": "a751ae2e647543a38031a6202edfbc4b",
       "version_major": 2,
       "version_minor": 0
      },
      "text/plain": [
       "Validation: 0it [00:00, ?it/s]"
      ]
     },
     "metadata": {},
     "output_type": "display_data"
    },
    {
     "data": {
      "application/json": {
       "ascii": false,
       "bar_format": null,
       "colour": null,
       "elapsed": 0.011979103088378906,
       "initial": 0,
       "n": 0,
       "ncols": 80,
       "nrows": 24,
       "postfix": null,
       "prefix": "Validation",
       "rate": null,
       "total": null,
       "unit": "it",
       "unit_divisor": 1000,
       "unit_scale": false
      },
      "application/vnd.jupyter.widget-view+json": {
       "model_id": "32ad1cda113c469892c3cf9e5ea4d8a0",
       "version_major": 2,
       "version_minor": 0
      },
      "text/plain": [
       "Validation: 0it [00:00, ?it/s]"
      ]
     },
     "metadata": {},
     "output_type": "display_data"
    },
    {
     "data": {
      "application/json": {
       "ascii": false,
       "bar_format": null,
       "colour": null,
       "elapsed": 0.012049436569213867,
       "initial": 0,
       "n": 0,
       "ncols": 80,
       "nrows": 24,
       "postfix": null,
       "prefix": "Validation",
       "rate": null,
       "total": null,
       "unit": "it",
       "unit_divisor": 1000,
       "unit_scale": false
      },
      "application/vnd.jupyter.widget-view+json": {
       "model_id": "08a66654793f43ba8de687dc1a2fe666",
       "version_major": 2,
       "version_minor": 0
      },
      "text/plain": [
       "Validation: 0it [00:00, ?it/s]"
      ]
     },
     "metadata": {},
     "output_type": "display_data"
    },
    {
     "data": {
      "application/json": {
       "ascii": false,
       "bar_format": null,
       "colour": null,
       "elapsed": 0.014042854309082031,
       "initial": 0,
       "n": 0,
       "ncols": 80,
       "nrows": 24,
       "postfix": null,
       "prefix": "Validation",
       "rate": null,
       "total": null,
       "unit": "it",
       "unit_divisor": 1000,
       "unit_scale": false
      },
      "application/vnd.jupyter.widget-view+json": {
       "model_id": "c83c4d2771c144bc9045f833845c0b6d",
       "version_major": 2,
       "version_minor": 0
      },
      "text/plain": [
       "Validation: 0it [00:00, ?it/s]"
      ]
     },
     "metadata": {},
     "output_type": "display_data"
    },
    {
     "data": {
      "application/json": {
       "ascii": false,
       "bar_format": null,
       "colour": null,
       "elapsed": 0.012845754623413086,
       "initial": 0,
       "n": 0,
       "ncols": 80,
       "nrows": 24,
       "postfix": null,
       "prefix": "Validation",
       "rate": null,
       "total": null,
       "unit": "it",
       "unit_divisor": 1000,
       "unit_scale": false
      },
      "application/vnd.jupyter.widget-view+json": {
       "model_id": "0616b5365fef42e486ae68b4ec076c47",
       "version_major": 2,
       "version_minor": 0
      },
      "text/plain": [
       "Validation: 0it [00:00, ?it/s]"
      ]
     },
     "metadata": {},
     "output_type": "display_data"
    },
    {
     "data": {
      "application/json": {
       "ascii": false,
       "bar_format": null,
       "colour": null,
       "elapsed": 0.012712717056274414,
       "initial": 0,
       "n": 0,
       "ncols": 80,
       "nrows": 24,
       "postfix": null,
       "prefix": "Validation",
       "rate": null,
       "total": null,
       "unit": "it",
       "unit_divisor": 1000,
       "unit_scale": false
      },
      "application/vnd.jupyter.widget-view+json": {
       "model_id": "2ef11c1c7be94fb6bb8c2108d8d854c0",
       "version_major": 2,
       "version_minor": 0
      },
      "text/plain": [
       "Validation: 0it [00:00, ?it/s]"
      ]
     },
     "metadata": {},
     "output_type": "display_data"
    },
    {
     "data": {
      "application/json": {
       "ascii": false,
       "bar_format": null,
       "colour": null,
       "elapsed": 0.011568069458007812,
       "initial": 0,
       "n": 0,
       "ncols": 80,
       "nrows": 24,
       "postfix": null,
       "prefix": "Validation",
       "rate": null,
       "total": null,
       "unit": "it",
       "unit_divisor": 1000,
       "unit_scale": false
      },
      "application/vnd.jupyter.widget-view+json": {
       "model_id": "2b2372ba851e4ecebbcdf941fb0f2bd3",
       "version_major": 2,
       "version_minor": 0
      },
      "text/plain": [
       "Validation: 0it [00:00, ?it/s]"
      ]
     },
     "metadata": {},
     "output_type": "display_data"
    },
    {
     "data": {
      "application/json": {
       "ascii": false,
       "bar_format": null,
       "colour": null,
       "elapsed": 0.0134735107421875,
       "initial": 0,
       "n": 0,
       "ncols": 80,
       "nrows": 24,
       "postfix": null,
       "prefix": "Validation",
       "rate": null,
       "total": null,
       "unit": "it",
       "unit_divisor": 1000,
       "unit_scale": false
      },
      "application/vnd.jupyter.widget-view+json": {
       "model_id": "59ee13b1253441689f5bee4643c3458b",
       "version_major": 2,
       "version_minor": 0
      },
      "text/plain": [
       "Validation: 0it [00:00, ?it/s]"
      ]
     },
     "metadata": {},
     "output_type": "display_data"
    },
    {
     "data": {
      "application/json": {
       "ascii": false,
       "bar_format": null,
       "colour": null,
       "elapsed": 0.014503717422485352,
       "initial": 0,
       "n": 0,
       "ncols": 80,
       "nrows": 24,
       "postfix": null,
       "prefix": "Validation",
       "rate": null,
       "total": null,
       "unit": "it",
       "unit_divisor": 1000,
       "unit_scale": false
      },
      "application/vnd.jupyter.widget-view+json": {
       "model_id": "30cc92b36d6b49f09ade32596a530761",
       "version_major": 2,
       "version_minor": 0
      },
      "text/plain": [
       "Validation: 0it [00:00, ?it/s]"
      ]
     },
     "metadata": {},
     "output_type": "display_data"
    },
    {
     "data": {
      "text/plain": [
       "<darts.models.forecasting.rnn_model.RNNModel at 0x7fa5ff75d8d0>"
      ]
     },
     "execution_count": 10,
     "metadata": {},
     "output_type": "execute_result"
    }
   ],
   "source": [
    "model.fit(series=train_serie, val_series=val_series)"
   ]
  },
  {
   "cell_type": "markdown",
   "id": "8fa00f21-3c50-4459-a2c3-7fcf9b631038",
   "metadata": {},
   "source": [
    "**Validation and Metrics**"
   ]
  },
  {
   "cell_type": "code",
   "execution_count": 11,
   "id": "03411395-9706-455a-967b-6848331c741e",
   "metadata": {},
   "outputs": [
    {
     "name": "stderr",
     "output_type": "stream",
     "text": [
      "LOCAL_RANK: 0 - CUDA_VISIBLE_DEVICES: [0]\n"
     ]
    },
    {
     "data": {
      "application/json": {
       "ascii": false,
       "bar_format": null,
       "colour": null,
       "elapsed": 0.013159513473510742,
       "initial": 269,
       "n": 269,
       "ncols": 80,
       "nrows": 24,
       "postfix": null,
       "prefix": "Predicting",
       "rate": null,
       "total": null,
       "unit": "it",
       "unit_divisor": 1000,
       "unit_scale": false
      },
      "application/vnd.jupyter.widget-view+json": {
       "model_id": "5981191dd0de41ac887b5ba857f6994b",
       "version_major": 2,
       "version_minor": 0
      },
      "text/plain": [
       "Predicting: 269it [00:00, ?it/s]"
      ]
     },
     "metadata": {},
     "output_type": "display_data"
    }
   ],
   "source": [
    "pred_serie = model.predict(n=len(val_series))\n",
    "pred, true = compute_intersect(pred_serie, val_series)"
   ]
  },
  {
   "cell_type": "code",
   "execution_count": 12,
   "id": "0bbdda0c-553f-4880-b4d4-7268eaea7ae3",
   "metadata": {},
   "outputs": [],
   "source": [
    "metrics = [rmse(true, pred), coefficient_of_variation(true, pred), biased_error(true.values(), pred.values())]\n",
    "np.save(os.path.join(directory, model_name, 'logs', 'metrics'), metrics)"
   ]
  }
 ],
 "metadata": {
  "kernelspec": {
   "display_name": "Python 3 (ipykernel)",
   "language": "python",
   "name": "python3"
  },
  "language_info": {
   "codemirror_mode": {
    "name": "ipython",
    "version": 3
   },
   "file_extension": ".py",
   "mimetype": "text/x-python",
   "name": "python",
   "nbconvert_exporter": "python",
   "pygments_lexer": "ipython3",
   "version": "3.8.10"
  },
  "vscode": {
   "interpreter": {
    "hash": "ba536e668c0b914d371f83e31346d867155a898be8d4426f36fe0af70b6fba60"
   }
  }
 },
 "nbformat": 4,
 "nbformat_minor": 5
}
